{
  "nbformat": 4,
  "nbformat_minor": 0,
  "metadata": {
    "colab": {
      "name": "END2.0 Session 1_pavankumar.ipynb",
      "provenance": [],
      "include_colab_link": true
    },
    "kernelspec": {
      "name": "python3",
      "display_name": "Python 3"
    },
    "language_info": {
      "name": "python"
    }
  },
  "cells": [
    {
      "cell_type": "markdown",
      "metadata": {
        "id": "view-in-github",
        "colab_type": "text"
      },
      "source": [
        "<a href=\"https://colab.research.google.com/github/pavankumarg1729/END2_session1/blob/main/END2_0_Session_1_pavankumar.ipynb\" target=\"_parent\"><img src=\"https://colab.research.google.com/assets/colab-badge.svg\" alt=\"Open In Colab\"/></a>"
      ]
    },
    {
      "cell_type": "code",
      "metadata": {
        "colab": {
          "base_uri": "https://localhost:8080/"
        },
        "id": "GC_6PeobwwkH",
        "outputId": "e623f7e8-c99d-489a-e275-b569ca38b154"
      },
      "source": [
        "import torch\n",
        "from torch.autograd import Variable\n",
        "import torch.nn as nn\n",
        "import torch.nn.functional as F\n",
        "import torch.optim as optim\n",
        "import numpy as np\n",
        "import matplotlib.pyplot as plt\n",
        "%matplotlib inline\n",
        "torch.manual_seed(2)"
      ],
      "execution_count": 1,
      "outputs": [
        {
          "output_type": "execute_result",
          "data": {
            "text/plain": [
              "<torch._C.Generator at 0x7effd131a8d0>"
            ]
          },
          "metadata": {
            "tags": []
          },
          "execution_count": 1
        }
      ]
    },
    {
      "cell_type": "code",
      "metadata": {
        "id": "bL64bMTkw2GP"
      },
      "source": [
        "X = torch.Tensor([[0,0], [0,1], [1,0], [1,1]])\n",
        "Y = torch.Tensor([0, 1, 1, 0]).view(-1,1)"
      ],
      "execution_count": 2,
      "outputs": []
    },
    {
      "cell_type": "code",
      "metadata": {
        "id": "aC82kEAIw3Wf"
      },
      "source": [
        "class XOR(nn.Module):\n",
        "    def __init__(self, input_dim = 2, output_dim=1):\n",
        "        super(XOR, self).__init__()\n",
        "        self.lin1 = nn.Linear(input_dim, 11)\n",
        "        self.lin2 = nn.Linear(11, output_dim,bias=False)\n",
        "    \n",
        "    def forward(self, x):\n",
        "        x = self.lin1(x)\n",
        "        x = F.tanh(x)\n",
        "        x = self.lin2(x)\n",
        "        # x = F.tanh(x)\n",
        "        return x"
      ],
      "execution_count": 28,
      "outputs": []
    },
    {
      "cell_type": "code",
      "metadata": {
        "colab": {
          "base_uri": "https://localhost:8080/"
        },
        "id": "8gQIQExYw65K",
        "outputId": "1ae26709-051b-412a-dc0f-881160a21c16"
      },
      "source": [
        "model = XOR()\n",
        "print(model)\n",
        "from torchsummary import summary\n",
        "summary(model, (2,2))"
      ],
      "execution_count": 29,
      "outputs": [
        {
          "output_type": "stream",
          "text": [
            "XOR(\n",
            "  (lin1): Linear(in_features=2, out_features=11, bias=True)\n",
            "  (lin2): Linear(in_features=11, out_features=1, bias=False)\n",
            ")\n",
            "----------------------------------------------------------------\n",
            "        Layer (type)               Output Shape         Param #\n",
            "================================================================\n",
            "            Linear-1                [-1, 2, 11]              33\n",
            "            Linear-2                 [-1, 2, 1]              11\n",
            "================================================================\n",
            "Total params: 44\n",
            "Trainable params: 44\n",
            "Non-trainable params: 0\n",
            "----------------------------------------------------------------\n",
            "Input size (MB): 0.00\n",
            "Forward/backward pass size (MB): 0.00\n",
            "Params size (MB): 0.00\n",
            "Estimated Total Size (MB): 0.00\n",
            "----------------------------------------------------------------\n"
          ],
          "name": "stdout"
        },
        {
          "output_type": "stream",
          "text": [
            "/usr/local/lib/python3.7/dist-packages/torch/nn/functional.py:1698: UserWarning: nn.functional.tanh is deprecated. Use torch.tanh instead.\n",
            "  warnings.warn(\"nn.functional.tanh is deprecated. Use torch.tanh instead.\")\n"
          ],
          "name": "stderr"
        }
      ]
    },
    {
      "cell_type": "code",
      "metadata": {
        "id": "yeotEq19x6XF"
      },
      "source": [
        "def weights_init(model):\n",
        "    for m in model.modules():\n",
        "        if isinstance(m, nn.Linear):\n",
        "            # initialize the weight tensor, here we use a normal distribution\n",
        "            m.weight.data.normal_(0, 1)\n",
        "\n",
        "weights_init(model)"
      ],
      "execution_count": 30,
      "outputs": []
    },
    {
      "cell_type": "code",
      "metadata": {
        "id": "WrD_sNzLx78e"
      },
      "source": [
        "loss_func = nn.L1Loss()"
      ],
      "execution_count": 31,
      "outputs": []
    },
    {
      "cell_type": "code",
      "metadata": {
        "id": "-zvbrMd2x_lA"
      },
      "source": [
        "optimizer = optim.SGD(model.parameters(), lr=0.02, momentum=0.9)\n"
      ],
      "execution_count": 32,
      "outputs": []
    },
    {
      "cell_type": "code",
      "metadata": {
        "colab": {
          "base_uri": "https://localhost:8080/"
        },
        "id": "q7tWa3D7yA5X",
        "outputId": "3c9c1a9c-dcb1-4e48-c5e8-dc909e963093"
      },
      "source": [
        "epochs = 2001\n",
        "steps = X.size(0)\n",
        "for i in range(epochs):\n",
        "    for j in range(steps):\n",
        "        data_point = np.random.randint(X.size(0))\n",
        "        x_var = Variable(X[data_point], requires_grad=False)\n",
        "        y_var = Variable(Y[data_point], requires_grad=False)\n",
        "        \n",
        "        optimizer.zero_grad()\n",
        "        y_hat = model(x_var)\n",
        "        loss = loss_func.forward(y_hat, y_var)\n",
        "        loss.backward()\n",
        "        optimizer.step()\n",
        "        \n",
        "    if i % 50 == 0:\n",
        "        print( \"Epoch: {0}, Loss: {1}, \".format(i, loss.data.numpy()))"
      ],
      "execution_count": 34,
      "outputs": [
        {
          "output_type": "stream",
          "text": [
            "/usr/local/lib/python3.7/dist-packages/torch/nn/functional.py:1698: UserWarning: nn.functional.tanh is deprecated. Use torch.tanh instead.\n",
            "  warnings.warn(\"nn.functional.tanh is deprecated. Use torch.tanh instead.\")\n"
          ],
          "name": "stderr"
        },
        {
          "output_type": "stream",
          "text": [
            "Epoch: 0, Loss: 0.2545740604400635, \n",
            "Epoch: 50, Loss: 0.26233386993408203, \n",
            "Epoch: 100, Loss: 0.1660115122795105, \n",
            "Epoch: 150, Loss: 0.20280039310455322, \n",
            "Epoch: 200, Loss: 0.14457589387893677, \n",
            "Epoch: 250, Loss: 0.06141144037246704, \n",
            "Epoch: 300, Loss: 0.15157818794250488, \n",
            "Epoch: 350, Loss: 0.1558065414428711, \n",
            "Epoch: 400, Loss: 0.3211604952812195, \n",
            "Epoch: 450, Loss: 0.14307618141174316, \n",
            "Epoch: 500, Loss: 0.4163631200790405, \n",
            "Epoch: 550, Loss: 0.10412132740020752, \n",
            "Epoch: 600, Loss: 0.05225729942321777, \n",
            "Epoch: 650, Loss: 0.004968583583831787, \n",
            "Epoch: 700, Loss: 0.08105307817459106, \n",
            "Epoch: 750, Loss: 0.10515153408050537, \n",
            "Epoch: 800, Loss: 0.01978975534439087, \n",
            "Epoch: 850, Loss: 0.19427204132080078, \n",
            "Epoch: 900, Loss: 0.01891469955444336, \n",
            "Epoch: 950, Loss: 0.36062121391296387, \n",
            "Epoch: 1000, Loss: 0.002985835075378418, \n",
            "Epoch: 1050, Loss: 0.5593286752700806, \n",
            "Epoch: 1100, Loss: 0.3247784972190857, \n",
            "Epoch: 1150, Loss: 0.2535976767539978, \n",
            "Epoch: 1200, Loss: 0.05346226692199707, \n",
            "Epoch: 1250, Loss: 0.024672269821166992, \n",
            "Epoch: 1300, Loss: 0.39985543489456177, \n",
            "Epoch: 1350, Loss: 0.27048999071121216, \n",
            "Epoch: 1400, Loss: 0.4100540280342102, \n",
            "Epoch: 1450, Loss: 0.17954987287521362, \n",
            "Epoch: 1500, Loss: 0.04310131072998047, \n",
            "Epoch: 1550, Loss: 0.07102024555206299, \n",
            "Epoch: 1600, Loss: 0.07796311378479004, \n",
            "Epoch: 1650, Loss: 0.20239019393920898, \n",
            "Epoch: 1700, Loss: 0.16147112846374512, \n",
            "Epoch: 1750, Loss: 0.19011521339416504, \n",
            "Epoch: 1800, Loss: 0.09369152784347534, \n",
            "Epoch: 1850, Loss: 0.028546154499053955, \n",
            "Epoch: 1900, Loss: 0.004241824150085449, \n",
            "Epoch: 1950, Loss: 0.06470680236816406, \n",
            "Epoch: 2000, Loss: 0.06330549716949463, \n"
          ],
          "name": "stdout"
        }
      ]
    },
    {
      "cell_type": "code",
      "metadata": {
        "id": "QV0dIdveyCRi"
      },
      "source": [
        ""
      ],
      "execution_count": null,
      "outputs": []
    }
  ]
}